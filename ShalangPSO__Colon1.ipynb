{
 "cells": [
  {
   "cell_type": "markdown",
   "id": "1c8d2632",
   "metadata": {},
   "source": [
    "### LOGISTIC CHAOTIC INTIALIZATION IN PSO\n",
    "#### Utilizing the KNN and MLP learning algorithm and the Colon dataset"
   ]
  },
  {
   "cell_type": "code",
   "execution_count": 1,
   "id": "086ded3e",
   "metadata": {},
   "outputs": [],
   "source": [
    "#we import all our general libraries here\n",
    "import warnings\n",
    "warnings.simplefilter('ignore')\n",
    "\n",
    "import numpy as np\n",
    "import pandas as pd\n",
    "from sklearn.model_selection import train_test_split\n",
    "\n",
    "import matplotlib.pyplot as plt\n",
    "%matplotlib inline\n",
    "from sklearn.preprocessing import LabelEncoder\n",
    "from sklearn.metrics import accuracy_score, f1_score\n",
    "import seaborn as sns\n",
    "from sklearn.preprocessing import StandardScaler, MinMaxScaler\n",
    "from sklearn.metrics import confusion_matrix\n",
    "\n",
    "#these are libraries realted to KNN\n",
    "from sklearn.neighbors import KNeighborsClassifier\n",
    "import os\n",
    "os.environ['TF_CPP_MIN_LOG_LEVEL'] = '2'\n",
    "\n",
    "#This are libraries related to using MLP\n",
    "import tensorflow as tf\n",
    "from tensorflow import keras\n",
    "from tensorflow.keras import layers\n",
    "from sklearn import metrics\n",
    "from sklearn.preprocessing import MinMaxScaler\n",
    "from sklearn.neural_network import MLPClassifier\n",
    "\n",
    "\n",
    "sns.set_style('white')\n",
    "sns.set_context('notebook')\n",
    "\n",
    "#Now we import the libraries for our Optimization algorithms i.e PSO, SSA, and FA\n",
    "from FS.pso import jfs   # change this to switch algorithm \n",
    "\n",
    "#Libraries for mutual Information to reduce features preliminary\n",
    "from sklearn.feature_selection import mutual_info_classif, SelectKBest"
   ]
  },
  {
   "cell_type": "code",
   "execution_count": 2,
   "id": "b3b8b12b",
   "metadata": {},
   "outputs": [
    {
     "data": {
      "text/html": [
       "<div>\n",
       "<style scoped>\n",
       "    .dataframe tbody tr th:only-of-type {\n",
       "        vertical-align: middle;\n",
       "    }\n",
       "\n",
       "    .dataframe tbody tr th {\n",
       "        vertical-align: top;\n",
       "    }\n",
       "\n",
       "    .dataframe thead th {\n",
       "        text-align: right;\n",
       "    }\n",
       "</style>\n",
       "<table border=\"1\" class=\"dataframe\">\n",
       "  <thead>\n",
       "    <tr style=\"text-align: right;\">\n",
       "      <th></th>\n",
       "      <th>samples</th>\n",
       "      <th>V1</th>\n",
       "      <th>V2</th>\n",
       "      <th>V3</th>\n",
       "      <th>V4</th>\n",
       "      <th>V5</th>\n",
       "      <th>V6</th>\n",
       "      <th>V7</th>\n",
       "      <th>V8</th>\n",
       "      <th>V9</th>\n",
       "      <th>...</th>\n",
       "      <th>V1992</th>\n",
       "      <th>V1993</th>\n",
       "      <th>V1994</th>\n",
       "      <th>V1995</th>\n",
       "      <th>V1996</th>\n",
       "      <th>V1997</th>\n",
       "      <th>V1998</th>\n",
       "      <th>V1999</th>\n",
       "      <th>V2000</th>\n",
       "      <th>response</th>\n",
       "    </tr>\n",
       "  </thead>\n",
       "  <tbody>\n",
       "    <tr>\n",
       "      <th>52</th>\n",
       "      <td>53</td>\n",
       "      <td>3.377132</td>\n",
       "      <td>3.212525</td>\n",
       "      <td>3.223945</td>\n",
       "      <td>2.328864</td>\n",
       "      <td>2.818701</td>\n",
       "      <td>2.918403</td>\n",
       "      <td>2.278929</td>\n",
       "      <td>2.661642</td>\n",
       "      <td>2.882727</td>\n",
       "      <td>...</td>\n",
       "      <td>-1.653570</td>\n",
       "      <td>1.037951</td>\n",
       "      <td>-0.467611</td>\n",
       "      <td>-1.046675</td>\n",
       "      <td>-0.138854</td>\n",
       "      <td>-2.468738</td>\n",
       "      <td>-1.211462</td>\n",
       "      <td>-1.292103</td>\n",
       "      <td>-1.705951</td>\n",
       "      <td>tumer</td>\n",
       "    </tr>\n",
       "    <tr>\n",
       "      <th>31</th>\n",
       "      <td>32</td>\n",
       "      <td>3.254394</td>\n",
       "      <td>2.028539</td>\n",
       "      <td>1.946766</td>\n",
       "      <td>2.817743</td>\n",
       "      <td>2.353192</td>\n",
       "      <td>2.674709</td>\n",
       "      <td>2.856575</td>\n",
       "      <td>2.209410</td>\n",
       "      <td>3.082802</td>\n",
       "      <td>...</td>\n",
       "      <td>-0.510145</td>\n",
       "      <td>0.760946</td>\n",
       "      <td>-1.500199</td>\n",
       "      <td>-0.255594</td>\n",
       "      <td>1.171154</td>\n",
       "      <td>-0.242502</td>\n",
       "      <td>0.042206</td>\n",
       "      <td>-1.433321</td>\n",
       "      <td>-1.164950</td>\n",
       "      <td>tumer</td>\n",
       "    </tr>\n",
       "    <tr>\n",
       "      <th>14</th>\n",
       "      <td>15</td>\n",
       "      <td>3.442077</td>\n",
       "      <td>2.219226</td>\n",
       "      <td>2.022632</td>\n",
       "      <td>2.670033</td>\n",
       "      <td>1.940647</td>\n",
       "      <td>2.875717</td>\n",
       "      <td>2.561099</td>\n",
       "      <td>2.184030</td>\n",
       "      <td>1.875362</td>\n",
       "      <td>...</td>\n",
       "      <td>-2.008515</td>\n",
       "      <td>-0.606269</td>\n",
       "      <td>-0.691290</td>\n",
       "      <td>-0.117422</td>\n",
       "      <td>0.110455</td>\n",
       "      <td>-0.284625</td>\n",
       "      <td>-0.229696</td>\n",
       "      <td>-0.893263</td>\n",
       "      <td>-1.237117</td>\n",
       "      <td>normal</td>\n",
       "    </tr>\n",
       "    <tr>\n",
       "      <th>46</th>\n",
       "      <td>47</td>\n",
       "      <td>2.691244</td>\n",
       "      <td>2.474925</td>\n",
       "      <td>2.263921</td>\n",
       "      <td>2.069061</td>\n",
       "      <td>2.218995</td>\n",
       "      <td>2.774069</td>\n",
       "      <td>2.595405</td>\n",
       "      <td>2.403916</td>\n",
       "      <td>2.162716</td>\n",
       "      <td>...</td>\n",
       "      <td>-1.363114</td>\n",
       "      <td>0.346694</td>\n",
       "      <td>-1.004542</td>\n",
       "      <td>-0.902191</td>\n",
       "      <td>-0.375288</td>\n",
       "      <td>-0.630725</td>\n",
       "      <td>-1.102699</td>\n",
       "      <td>-1.833970</td>\n",
       "      <td>-1.734169</td>\n",
       "      <td>tumer</td>\n",
       "    </tr>\n",
       "    <tr>\n",
       "      <th>23</th>\n",
       "      <td>24</td>\n",
       "      <td>3.154211</td>\n",
       "      <td>3.688329</td>\n",
       "      <td>3.456096</td>\n",
       "      <td>3.338523</td>\n",
       "      <td>2.096800</td>\n",
       "      <td>2.362470</td>\n",
       "      <td>2.210459</td>\n",
       "      <td>2.304014</td>\n",
       "      <td>3.021782</td>\n",
       "      <td>...</td>\n",
       "      <td>-0.259322</td>\n",
       "      <td>-1.130145</td>\n",
       "      <td>0.499261</td>\n",
       "      <td>-0.323382</td>\n",
       "      <td>0.630106</td>\n",
       "      <td>-1.126645</td>\n",
       "      <td>-0.848909</td>\n",
       "      <td>-1.716801</td>\n",
       "      <td>-1.770166</td>\n",
       "      <td>tumer</td>\n",
       "    </tr>\n",
       "  </tbody>\n",
       "</table>\n",
       "<p>5 rows × 2002 columns</p>\n",
       "</div>"
      ],
      "text/plain": [
       "    samples        V1        V2        V3        V4        V5        V6  \\\n",
       "52       53  3.377132  3.212525  3.223945  2.328864  2.818701  2.918403   \n",
       "31       32  3.254394  2.028539  1.946766  2.817743  2.353192  2.674709   \n",
       "14       15  3.442077  2.219226  2.022632  2.670033  1.940647  2.875717   \n",
       "46       47  2.691244  2.474925  2.263921  2.069061  2.218995  2.774069   \n",
       "23       24  3.154211  3.688329  3.456096  3.338523  2.096800  2.362470   \n",
       "\n",
       "          V7        V8        V9  ...     V1992     V1993     V1994     V1995  \\\n",
       "52  2.278929  2.661642  2.882727  ... -1.653570  1.037951 -0.467611 -1.046675   \n",
       "31  2.856575  2.209410  3.082802  ... -0.510145  0.760946 -1.500199 -0.255594   \n",
       "14  2.561099  2.184030  1.875362  ... -2.008515 -0.606269 -0.691290 -0.117422   \n",
       "46  2.595405  2.403916  2.162716  ... -1.363114  0.346694 -1.004542 -0.902191   \n",
       "23  2.210459  2.304014  3.021782  ... -0.259322 -1.130145  0.499261 -0.323382   \n",
       "\n",
       "       V1996     V1997     V1998     V1999     V2000  response  \n",
       "52 -0.138854 -2.468738 -1.211462 -1.292103 -1.705951     tumer  \n",
       "31  1.171154 -0.242502  0.042206 -1.433321 -1.164950     tumer  \n",
       "14  0.110455 -0.284625 -0.229696 -0.893263 -1.237117    normal  \n",
       "46 -0.375288 -0.630725 -1.102699 -1.833970 -1.734169     tumer  \n",
       "23  0.630106 -1.126645 -0.848909 -1.716801 -1.770166     tumer  \n",
       "\n",
       "[5 rows x 2002 columns]"
      ]
     },
     "execution_count": 2,
     "metadata": {},
     "output_type": "execute_result"
    }
   ],
   "source": [
    "#here we import and visualize our dataset\n",
    "url = \"Datasets/colon_cancer.csv\"\n",
    "df = pd.read_csv(url)\n",
    "df.sample(5)"
   ]
  },
  {
   "cell_type": "code",
   "execution_count": 3,
   "id": "7ea088fd",
   "metadata": {},
   "outputs": [
    {
     "data": {
      "text/plain": [
       "(62, 2002)"
      ]
     },
     "execution_count": 3,
     "metadata": {},
     "output_type": "execute_result"
    }
   ],
   "source": [
    "df.shape#shows that we have 153 instances and 15,155 features"
   ]
  },
  {
   "cell_type": "code",
   "execution_count": 4,
   "id": "8449818d",
   "metadata": {},
   "outputs": [],
   "source": [
    "#now we chcek if there are missing values in our data\n",
    "#df.isnull().sum() #There are no missinf values in our dataset"
   ]
  },
  {
   "cell_type": "code",
   "execution_count": 5,
   "id": "253effd0",
   "metadata": {},
   "outputs": [],
   "source": [
    "df = df.drop(['samples'],axis = 1)"
   ]
  },
  {
   "cell_type": "code",
   "execution_count": 34,
   "id": "d2f3130e",
   "metadata": {},
   "outputs": [
    {
     "data": {
      "image/png": "[encoded data removed]",
      "text/plain": [
       "<Figure size 300x200 with 1 Axes>"
      ]
     },
     "metadata": {},
     "output_type": "display_data"
    }
   ],
   "source": [
    "df.value_counts('response').plot(kind = 'bar', color = ['red', 'blue'], figsize=(3,2));\n"
   ]
  },
  {
   "cell_type": "markdown",
   "id": "7c53d6fa",
   "metadata": {},
   "source": [
    "We visualize to see the number of instances in each of the class. It can then be \n",
    "seen that cancerous has significantly higher number of instances thatn the nirmal class.\n",
    "This again mean that our data is inbalance."
   ]
  },
  {
   "cell_type": "code",
   "execution_count": 7,
   "id": "a9c8d41c",
   "metadata": {},
   "outputs": [
    {
     "data": {
      "text/html": [
       "<div>\n",
       "<style scoped>\n",
       "    .dataframe tbody tr th:only-of-type {\n",
       "        vertical-align: middle;\n",
       "    }\n",
       "\n",
       "    .dataframe tbody tr th {\n",
       "        vertical-align: top;\n",
       "    }\n",
       "\n",
       "    .dataframe thead th {\n",
       "        text-align: right;\n",
       "    }\n",
       "</style>\n",
       "<table border=\"1\" class=\"dataframe\">\n",
       "  <thead>\n",
       "    <tr style=\"text-align: right;\">\n",
       "      <th></th>\n",
       "      <th>percentage (%)</th>\n",
       "    </tr>\n",
       "    <tr>\n",
       "      <th>response</th>\n",
       "      <th></th>\n",
       "    </tr>\n",
       "  </thead>\n",
       "  <tbody>\n",
       "    <tr>\n",
       "      <th>tumer</th>\n",
       "      <td>0.65</td>\n",
       "    </tr>\n",
       "    <tr>\n",
       "      <th>normal</th>\n",
       "      <td>0.35</td>\n",
       "    </tr>\n",
       "  </tbody>\n",
       "</table>\n",
       "</div>"
      ],
      "text/plain": [
       "          percentage (%)\n",
       "response                \n",
       "tumer               0.65\n",
       "normal              0.35"
      ]
     },
     "execution_count": 7,
     "metadata": {},
     "output_type": "execute_result"
    }
   ],
   "source": [
    "#showing that approximately 64% are cancerous and 36% Normal\n",
    "value_count_normalized = df.response.value_counts(normalize = True)\n",
    "new_T = pd.DataFrame({'percentage (%)': round(value_count_normalized, 2)})\n",
    "new_T"
   ]
  },
  {
   "cell_type": "markdown",
   "id": "44d34125",
   "metadata": {},
   "source": [
    "#### Label Encoding"
   ]
  },
  {
   "cell_type": "markdown",
   "id": "67da45ba",
   "metadata": {},
   "source": [
    "From the first display of our dataset, we could see that 'Class' is not in a numeric form. Machine learning algorithms on the other hand does not work with categorical variables. Thus we need to convert the class into numeric using the LabelEncoder we previousely imported"
   ]
  },
  {
   "cell_type": "code",
   "execution_count": 8,
   "id": "17991ff5",
   "metadata": {},
   "outputs": [
    {
     "data": {
      "text/plain": [
       "0     0\n",
       "1     0\n",
       "2     0\n",
       "3     0\n",
       "4     0\n",
       "     ..\n",
       "57    1\n",
       "58    1\n",
       "59    1\n",
       "60    1\n",
       "61    1\n",
       "Name: response, Length: 62, dtype: int32"
      ]
     },
     "execution_count": 8,
     "metadata": {},
     "output_type": "execute_result"
    }
   ],
   "source": [
    "label = LabelEncoder()\n",
    "df['response'] = label.fit_transform(df['response'])\n",
    "df.response #Now we can see that out target class consist only of numeric 1's and 0's"
   ]
  },
  {
   "cell_type": "code",
   "execution_count": 9,
   "id": "c0193e8b",
   "metadata": {},
   "outputs": [],
   "source": [
    "X = df.drop(['response'], axis = 1)\n",
    "#y = df.pop('Class')\n",
    "y = df.loc[:,['response']]\n",
    "#y = np.asarray(df[:, -1])\n",
    "#we separated the dependent and independent variables into y and X respectively\n",
    "#y"
   ]
  },
  {
   "cell_type": "code",
   "execution_count": 10,
   "id": "07d09b46",
   "metadata": {},
   "outputs": [
    {
     "data": {
      "text/plain": [
       "SelectKBest(k=1000,\n",
       "            score_func=<function mutual_info_classif at 0x00000297DD6B6AF0>)"
      ]
     },
     "execution_count": 10,
     "metadata": {},
     "output_type": "execute_result"
    }
   ],
   "source": [
    "#Incorporating the Mutual Information filter method implicitely to reduce dataset dimension preliminary\n",
    "select_features = SelectKBest(score_func = mutual_info_classif, k = 1000)#select top 1000 features\n",
    "select_features.fit(X, y)"
   ]
  },
  {
   "cell_type": "code",
   "execution_count": 11,
   "id": "a73d3b23",
   "metadata": {},
   "outputs": [],
   "source": [
    "#presenting the top 1000 features in a table\n",
    "Tabel_score = pd.DataFrame(select_features.scores_)\n",
    "Table_features = pd.DataFrame(X.columns)\n",
    "Combined_table = pd.concat([Table_features , Tabel_score], axis = 1)\n",
    "Combined_table.columns = ['Features_Names', 'Scores']"
   ]
  },
  {
   "cell_type": "code",
   "execution_count": 12,
   "id": "9be0e18d",
   "metadata": {},
   "outputs": [
    {
     "data": {
      "text/html": [
       "<div>\n",
       "<style scoped>\n",
       "    .dataframe tbody tr th:only-of-type {\n",
       "        vertical-align: middle;\n",
       "    }\n",
       "\n",
       "    .dataframe tbody tr th {\n",
       "        vertical-align: top;\n",
       "    }\n",
       "\n",
       "    .dataframe thead th {\n",
       "        text-align: right;\n",
       "    }\n",
       "</style>\n",
       "<table border=\"1\" class=\"dataframe\">\n",
       "  <thead>\n",
       "    <tr style=\"text-align: right;\">\n",
       "      <th></th>\n",
       "      <th>Features_Names</th>\n",
       "      <th>Scores</th>\n",
       "    </tr>\n",
       "  </thead>\n",
       "  <tbody>\n",
       "    <tr>\n",
       "      <th>376</th>\n",
       "      <td>V377</td>\n",
       "      <td>0.359149</td>\n",
       "    </tr>\n",
       "    <tr>\n",
       "      <th>624</th>\n",
       "      <td>V625</td>\n",
       "      <td>0.341521</td>\n",
       "    </tr>\n",
       "    <tr>\n",
       "      <th>1226</th>\n",
       "      <td>V1227</td>\n",
       "      <td>0.338607</td>\n",
       "    </tr>\n",
       "    <tr>\n",
       "      <th>1634</th>\n",
       "      <td>V1635</td>\n",
       "      <td>0.296314</td>\n",
       "    </tr>\n",
       "    <tr>\n",
       "      <th>1962</th>\n",
       "      <td>V1963</td>\n",
       "      <td>0.295611</td>\n",
       "    </tr>\n",
       "    <tr>\n",
       "      <th>...</th>\n",
       "      <td>...</td>\n",
       "      <td>...</td>\n",
       "    </tr>\n",
       "    <tr>\n",
       "      <th>956</th>\n",
       "      <td>V957</td>\n",
       "      <td>0.000000</td>\n",
       "    </tr>\n",
       "    <tr>\n",
       "      <th>955</th>\n",
       "      <td>V956</td>\n",
       "      <td>0.000000</td>\n",
       "    </tr>\n",
       "    <tr>\n",
       "      <th>954</th>\n",
       "      <td>V955</td>\n",
       "      <td>0.000000</td>\n",
       "    </tr>\n",
       "    <tr>\n",
       "      <th>950</th>\n",
       "      <td>V951</td>\n",
       "      <td>0.000000</td>\n",
       "    </tr>\n",
       "    <tr>\n",
       "      <th>1999</th>\n",
       "      <td>V2000</td>\n",
       "      <td>0.000000</td>\n",
       "    </tr>\n",
       "  </tbody>\n",
       "</table>\n",
       "<p>2000 rows × 2 columns</p>\n",
       "</div>"
      ],
      "text/plain": [
       "     Features_Names    Scores\n",
       "376            V377  0.359149\n",
       "624            V625  0.341521\n",
       "1226          V1227  0.338607\n",
       "1634          V1635  0.296314\n",
       "1962          V1963  0.295611\n",
       "...             ...       ...\n",
       "956            V957  0.000000\n",
       "955            V956  0.000000\n",
       "954            V955  0.000000\n",
       "950            V951  0.000000\n",
       "1999          V2000  0.000000\n",
       "\n",
       "[2000 rows x 2 columns]"
      ]
     },
     "execution_count": 12,
     "metadata": {},
     "output_type": "execute_result"
    }
   ],
   "source": [
    "Combined_table.sort_values(by = 'Scores', ascending = False)"
   ]
  },
  {
   "cell_type": "code",
   "execution_count": 13,
   "id": "53b9bd84",
   "metadata": {},
   "outputs": [
    {
     "data": {
      "text/plain": [
       "(2000, 2)"
      ]
     },
     "execution_count": 13,
     "metadata": {},
     "output_type": "execute_result"
    }
   ],
   "source": [
    "Combined_table.shape"
   ]
  },
  {
   "cell_type": "code",
   "execution_count": 14,
   "id": "9820281c",
   "metadata": {},
   "outputs": [],
   "source": [
    "First_500_features = Combined_table.iloc[:1000] #select top 500\n",
    "First_500_features = First_500_features.reset_index(drop = True)#reset index of features\n",
    "#First_50_features #Selected 500 top performing features"
   ]
  },
  {
   "cell_type": "code",
   "execution_count": 15,
   "id": "bc9c43f6",
   "metadata": {},
   "outputs": [],
   "source": [
    "#Now we select onyl these 100 features from our original dataset df.\n",
    "Select_feature_names = First_500_features['Features_Names']\n",
    "Select_feature_names_from_original_df = X[Select_feature_names]\n",
    "#Select_feature_names_from_original_df.shape #OUR new dataset woth onyl the top 500 features"
   ]
  },
  {
   "cell_type": "code",
   "execution_count": 16,
   "id": "dff35502",
   "metadata": {},
   "outputs": [],
   "source": [
    "#Now copying our dataset into a small name\n",
    "X = Select_feature_names_from_original_df"
   ]
  },
  {
   "cell_type": "markdown",
   "id": "135f66e1",
   "metadata": {},
   "source": [
    "#### Normalization\n",
    "Although the datasets looks normlized, we still will apply the MinMaxScaler to make sure all the numeric values are on the same scale to avois bias"
   ]
  },
  {
   "cell_type": "code",
   "execution_count": 17,
   "id": "a46c6e49",
   "metadata": {},
   "outputs": [],
   "source": [
    "scaler = StandardScaler()\n",
    "X_scaled = scaler.fit_transform(X)\n",
    "X_scaled = np.abs(X_scaled)\n",
    "#Now our datasets is scaled suitable for machine learnign task."
   ]
  },
  {
   "cell_type": "code",
   "execution_count": 18,
   "id": "6a3ecded",
   "metadata": {},
   "outputs": [
    {
     "data": {
      "text/plain": [
       "(62, 1000)"
      ]
     },
     "execution_count": 18,
     "metadata": {},
     "output_type": "execute_result"
    }
   ],
   "source": [
    "X_scaled.shape"
   ]
  },
  {
   "cell_type": "code",
   "execution_count": 19,
   "id": "4d763079",
   "metadata": {},
   "outputs": [],
   "source": [
    "y = np.ravel(y)"
   ]
  },
  {
   "cell_type": "markdown",
   "id": "9559c86c",
   "metadata": {},
   "source": [
    "#### Spiltting Data into Training and Testing sets\n",
    "we will split into 70 for trainign and 30 for testing. Also, to manage the imbalanced nature of the dataset, we employ the stratify parameter"
   ]
  },
  {
   "cell_type": "code",
   "execution_count": 20,
   "id": "de5577f0",
   "metadata": {},
   "outputs": [
    {
     "name": "stdout",
     "output_type": "stream",
     "text": [
      "Training set:(43, 1000)\n",
      "Testing set:(19, 1000)\n",
      "Training_Label set:(43,)\n",
      "Testing_Lable set:(19,)\n"
     ]
    }
   ],
   "source": [
    "rs = 42 #we use the random state parameter to ensure reproducibility of experiment\n",
    "x_train, x_test, y_train, y_test = train_test_split(X_scaled, y, \n",
    "                                                    random_state = rs, \n",
    "                                                    test_size = .3, \n",
    "                                                    stratify = y)\n",
    "fold = {'xt': x_train, 'yt': y_train, 'xv': x_test, 'yv': y_test} #requirement for optimization algorithms\n",
    "#We print out to see the number of instances in each of the classes\n",
    "print(f'Training set:{x_train.shape}')\n",
    "print(f'Testing set:{x_test.shape}')\n",
    "print(f'Training_Label set:{y_train.shape}')\n",
    "print(f'Testing_Lable set:{y_test.shape}')"
   ]
  },
  {
   "cell_type": "markdown",
   "id": "ff735a83",
   "metadata": {},
   "source": [
    "#### Optimization ALgorithms"
   ]
  },
  {
   "attachments": {
    "image-2.png": {
     "image/png": "[encoded data removed]"
    },
    "image.png": {
     "image/png": "[encoded data removed]"
    }
   },
   "cell_type": "markdown",
   "id": "755cac83",
   "metadata": {},
   "source": [
    "Note that in this experirment, we used the library produced by Too, 2021 as identified in chapter 3. Also, we incorporate the inprovement of including the logistic chaotic map directly in the library and not here.\n",
    "\n",
    "All that is done here is to import the library and run.\n",
    "![image.png](attachment:image.png)\n",
    "![image-2.png](attachment:image-2.png)"
   ]
  },
  {
   "cell_type": "markdown",
   "id": "8b58d863",
   "metadata": {},
   "source": [
    "#### Firefly Algorithm\n",
    "Note the parameters as specified in chapter 3. In addition to the general parameters, the FA has additional parameters to be initialized"
   ]
  },
  {
   "cell_type": "code",
   "execution_count": 21,
   "id": "934a0ba2",
   "metadata": {},
   "outputs": [],
   "source": [
    "#Now we set the general parameters\n",
    "K = 5 #K value in KNN\n",
    "N = 20 #Population size/swarm size\n",
    "T = 20 #Max iteration/generations\n",
    "\n",
    "\n",
    "#Particle Swarm Opitmization specific parameters\n",
    "c1  = 2         # cognitive factor\n",
    "c2  = 2         # social factor \n",
    "w   = 0.9       # inertia weight\n",
    "opts = {'k':K, 'fold':fold, 'N':N, 'T':T, 'w':w, 'c1':c1, 'c2':c2}"
   ]
  },
  {
   "cell_type": "code",
   "execution_count": 22,
   "id": "62386825",
   "metadata": {},
   "outputs": [
    {
     "name": "stdout",
     "output_type": "stream",
     "text": [
      "Iteration: 1\n",
      "Best (PSO): 0.3203415789473684\n",
      "Iteration: 2\n",
      "Best (PSO): 0.31941157894736844\n",
      "Iteration: 3\n",
      "Best (PSO): 0.31863157894736843\n",
      "Iteration: 4\n",
      "Best (PSO): 0.26670631578947374\n",
      "Iteration: 5\n",
      "Best (PSO): 0.26670631578947374\n",
      "Iteration: 6\n",
      "Best (PSO): 0.26670631578947374\n",
      "Iteration: 7\n",
      "Best (PSO): 0.26670631578947374\n",
      "Iteration: 8\n",
      "Best (PSO): 0.26670631578947374\n",
      "Iteration: 9\n",
      "Best (PSO): 0.26647631578947373\n",
      "Iteration: 10\n",
      "Best (PSO): 0.2662763157894737\n",
      "Iteration: 11\n",
      "Best (PSO): 0.26599631578947375\n",
      "Iteration: 12\n",
      "Best (PSO): 0.26599631578947375\n",
      "Iteration: 13\n",
      "Best (PSO): 0.26599631578947375\n",
      "Iteration: 14\n",
      "Best (PSO): 0.26599631578947375\n",
      "Iteration: 15\n",
      "Best (PSO): 0.26599631578947375\n",
      "Iteration: 16\n",
      "Best (PSO): 0.26599631578947375\n",
      "Iteration: 17\n",
      "Best (PSO): 0.26599631578947375\n",
      "Iteration: 18\n",
      "Best (PSO): 0.26599631578947375\n",
      "Iteration: 19\n",
      "Best (PSO): 0.26599631578947375\n",
      "Iteration: 20\n",
      "Best (PSO): 0.26599631578947375\n"
     ]
    }
   ],
   "source": [
    "#Now we perform our feature selection by calling the module jfs\n",
    "feature_selection_mdl = jfs(X_scaled, y, opts) #feature selection model\n",
    "sf = feature_selection_mdl['sf'] #index of selected features"
   ]
  },
  {
   "cell_type": "code",
   "execution_count": 23,
   "id": "cf540f0d",
   "metadata": {},
   "outputs": [],
   "source": [
    "#print(sf)"
   ]
  },
  {
   "cell_type": "code",
   "execution_count": 24,
   "id": "65bea749",
   "metadata": {},
   "outputs": [],
   "source": [
    "#Model with selected features\n",
    "num_train = np.size(x_train,0)#checks the number of samples slected in the x_train and assign to num_train\n",
    "num_test = np.size(x_test, 0)#checks the number of samples slected in the x_train and assign to num_train\n",
    "xtrain = x_train[:,sf]\n",
    "ytrain = y_train.reshape(num_train)\n",
    "xtest = x_test[:,sf]\n",
    "ytest = y_test.reshape(num_test) #I suffered fixing the bug"
   ]
  },
  {
   "cell_type": "code",
   "execution_count": 25,
   "id": "5d540448",
   "metadata": {},
   "outputs": [
    {
     "data": {
      "text/plain": [
       "(43, 547)"
      ]
     },
     "execution_count": 25,
     "metadata": {},
     "output_type": "execute_result"
    }
   ],
   "source": [
    "xtrain.shape #WHY IS IT SHOWING ZERO FEATURES?"
   ]
  },
  {
   "cell_type": "code",
   "execution_count": 26,
   "id": "e76bdaf1",
   "metadata": {},
   "outputs": [
    {
     "data": {
      "text/plain": [
       "KNeighborsClassifier()"
      ]
     },
     "execution_count": 26,
     "metadata": {},
     "output_type": "execute_result"
    }
   ],
   "source": [
    "#Now we build our model i.e., the classifier\n",
    "KNN_model = KNeighborsClassifier(n_neighbors = 5)\n",
    "KNN_model.fit(xtrain, ytrain)  "
   ]
  },
  {
   "cell_type": "code",
   "execution_count": 27,
   "id": "831962f7",
   "metadata": {},
   "outputs": [
    {
     "data": {
      "text/plain": [
       "MLPClassifier(hidden_layer_sizes=(32, 8), max_iter=500, random_state=42)"
      ]
     },
     "execution_count": 27,
     "metadata": {},
     "output_type": "execute_result"
    }
   ],
   "source": [
    "#OPTIMIZING THE MLP WITH Nesterov’s momentum\n",
    "MLP_model = MLPClassifier(random_state = rs,\n",
    "                             hidden_layer_sizes = (32, 8),\n",
    "                             early_stopping = False,\n",
    "                             solver = 'adam',\n",
    "                             nesterovs_momentum = True,\n",
    "                             momentum = 0.90,\n",
    "                             max_iter = 500)\n",
    "MLP_model.fit(xtrain, ytrain)"
   ]
  },
  {
   "cell_type": "code",
   "execution_count": 28,
   "id": "7157f79e",
   "metadata": {},
   "outputs": [],
   "source": [
    "#Calculating for accuracy for our unseen datadef \n",
    "def train_test_accuracy(model, xtest, ytest, name = ''):\n",
    "    y_pred = model.predict(xtest)\n",
    "    test_accuracy = round(accuracy_score(y_pred, ytest)*100, 2)\n",
    "    test_F1_measure = round(f1_score(y_pred, ytest)*100,2)\n",
    "        \n",
    "    return print(\"The ACCURACY SCORE is: {} \\n and the F1_MEASURE is {} \\n for {}\". format(test_accuracy, test_F1_measure, name))"
   ]
  },
  {
   "cell_type": "code",
   "execution_count": 29,
   "id": "26cce810",
   "metadata": {},
   "outputs": [
    {
     "name": "stdout",
     "output_type": "stream",
     "text": [
      "The ACCURACY SCORE is: 73.68 \n",
      " and the F1_MEASURE is 82.76 \n",
      " for PSO-KNN\n"
     ]
    }
   ],
   "source": [
    "#Calling our fucntion to display results for FA-KNN\n",
    "train_test_accuracy(KNN_model, xtest, ytest, name = 'PSO-KNN')"
   ]
  },
  {
   "cell_type": "code",
   "execution_count": 30,
   "id": "d0fd9e36",
   "metadata": {},
   "outputs": [
    {
     "name": "stdout",
     "output_type": "stream",
     "text": [
      "The ACCURACY SCORE is: 63.16 \n",
      " and the F1_MEASURE is 75.86 \n",
      " for PSO-MLP\n"
     ]
    }
   ],
   "source": [
    "#Calling our fucntion to display results for FA-MLP\n",
    "train_test_accuracy(MLP_model, xtest, ytest, name = 'PSO-MLP')"
   ]
  },
  {
   "cell_type": "code",
   "execution_count": 31,
   "id": "17fb08ee",
   "metadata": {},
   "outputs": [
    {
     "name": "stdout",
     "output_type": "stream",
     "text": [
      "The number of FEATURES selected is: 547\n"
     ]
    }
   ],
   "source": [
    "#Now we check the number of selected features\n",
    "Number_of_features = len(sf)\n",
    "print(f'The number of FEATURES selected is: {Number_of_features}')"
   ]
  },
  {
   "cell_type": "markdown",
   "id": "e9b81e18",
   "metadata": {},
   "source": [
    "### END OF PROJECT"
   ]
  },
  {
   "cell_type": "code",
   "execution_count": null,
   "id": "8814dd79",
   "metadata": {},
   "outputs": [],
   "source": []
  }
 ],
 "metadata": {
  "kernelspec": {
   "display_name": "Python 3 (ipykernel)",
   "language": "python",
   "name": "python3"
  },
  "language_info": {
   "codemirror_mode": {
    "name": "ipython",
    "version": 3
   },
   "file_extension": ".py",
   "mimetype": "text/x-python",
   "name": "python",
   "nbconvert_exporter": "python",
   "pygments_lexer": "ipython3",
   "version": "3.9.17"
  }
 },
 "nbformat": 4,
 "nbformat_minor": 5
}
