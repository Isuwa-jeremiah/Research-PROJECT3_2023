{
 "cells": [
  {
   "cell_type": "markdown",
   "id": "1c8d2632",
   "metadata": {},
   "source": [
    "### LOGISTIC CHAOTIC INTIALIZATION IN SSA\n",
    "#### Utilizing the KNN learning algorithm and the Ovarian dataset"
   ]
  },
  {
   "cell_type": "code",
   "execution_count": 1,
   "id": "086ded3e",
   "metadata": {},
   "outputs": [],
   "source": [
    "#we import all our general libraries here\n",
    "import warnings\n",
    "warnings.simplefilter('ignore')\n",
    "\n",
    "import numpy as np\n",
    "import pandas as pd\n",
    "from sklearn.model_selection import train_test_split\n",
    "\n",
    "import matplotlib.pyplot as plt\n",
    "%matplotlib inline\n",
    "from sklearn.preprocessing import LabelEncoder\n",
    "from sklearn.metrics import accuracy_score, f1_score\n",
    "import seaborn as sns\n",
    "from sklearn.preprocessing import StandardScaler, MinMaxScaler\n",
    "from sklearn.metrics import confusion_matrix\n",
    "\n",
    "#these are libraries realted to KNN\n",
    "from sklearn.neighbors import KNeighborsClassifier\n",
    "import os\n",
    "os.environ['TF_CPP_MIN_LOG_LEVEL'] = '2'\n",
    "\n",
    "#This are libraries related to using MLP\n",
    "import tensorflow as tf\n",
    "from tensorflow import keras\n",
    "from tensorflow.keras import layers\n",
    "from sklearn import metrics\n",
    "from sklearn.preprocessing import MinMaxScaler\n",
    "from sklearn.neural_network import MLPClassifier\n",
    "\n",
    "\n",
    "sns.set_style('white')\n",
    "sns.set_context('notebook')\n",
    "\n",
    "#Now we import the libraries for our Optimization algorithms i.e PSO, SSA, and FA\n",
    "from FS.ssa import jfs   # change this to switch algorithm \n",
    "\n",
    "#Libraries for mutual Information to reduce features preliminary\n",
    "from sklearn.feature_selection import mutual_info_classif, SelectKBest"
   ]
  },
  {
   "cell_type": "code",
   "execution_count": 2,
   "id": "b3b8b12b",
   "metadata": {},
   "outputs": [
    {
     "data": {
      "text/html": [
       "<div>\n",
       "<style scoped>\n",
       "    .dataframe tbody tr th:only-of-type {\n",
       "        vertical-align: middle;\n",
       "    }\n",
       "\n",
       "    .dataframe tbody tr th {\n",
       "        vertical-align: top;\n",
       "    }\n",
       "\n",
       "    .dataframe thead th {\n",
       "        text-align: right;\n",
       "    }\n",
       "</style>\n",
       "<table border=\"1\" class=\"dataframe\">\n",
       "  <thead>\n",
       "    <tr style=\"text-align: right;\">\n",
       "      <th></th>\n",
       "      <th>MZ-7.86E-05</th>\n",
       "      <th>MZ2.18E-07</th>\n",
       "      <th>MZ9.60E-05</th>\n",
       "      <th>MZ0.000366014</th>\n",
       "      <th>MZ0.000810195</th>\n",
       "      <th>MZ0.001428564</th>\n",
       "      <th>MZ0.002221123</th>\n",
       "      <th>MZ0.003187869</th>\n",
       "      <th>MZ0.004328805</th>\n",
       "      <th>MZ0.005643929</th>\n",
       "      <th>...</th>\n",
       "      <th>MZ19974.404</th>\n",
       "      <th>MZ19977.042</th>\n",
       "      <th>MZ19979.68</th>\n",
       "      <th>MZ19982.319</th>\n",
       "      <th>MZ19984.957</th>\n",
       "      <th>MZ19987.596</th>\n",
       "      <th>MZ19990.235</th>\n",
       "      <th>MZ19992.874</th>\n",
       "      <th>MZ19995.513</th>\n",
       "      <th>Class</th>\n",
       "    </tr>\n",
       "  </thead>\n",
       "  <tbody>\n",
       "    <tr>\n",
       "      <th>60</th>\n",
       "      <td>0.473116</td>\n",
       "      <td>0.406593</td>\n",
       "      <td>0.632183</td>\n",
       "      <td>0.302327</td>\n",
       "      <td>0.357144</td>\n",
       "      <td>0.544306</td>\n",
       "      <td>0.440475</td>\n",
       "      <td>0.828952</td>\n",
       "      <td>0.507246</td>\n",
       "      <td>0.593407</td>\n",
       "      <td>...</td>\n",
       "      <td>0.522079</td>\n",
       "      <td>0.497888</td>\n",
       "      <td>0.497888</td>\n",
       "      <td>0.497888</td>\n",
       "      <td>0.497888</td>\n",
       "      <td>0.497888</td>\n",
       "      <td>0.497888</td>\n",
       "      <td>0.497888</td>\n",
       "      <td>0.497888</td>\n",
       "      <td>Normal</td>\n",
       "    </tr>\n",
       "    <tr>\n",
       "      <th>20</th>\n",
       "      <td>0.677423</td>\n",
       "      <td>0.307689</td>\n",
       "      <td>0.436781</td>\n",
       "      <td>0.430235</td>\n",
       "      <td>0.583334</td>\n",
       "      <td>0.468359</td>\n",
       "      <td>0.630951</td>\n",
       "      <td>0.631582</td>\n",
       "      <td>0.666669</td>\n",
       "      <td>0.593407</td>\n",
       "      <td>...</td>\n",
       "      <td>0.230769</td>\n",
       "      <td>0.215495</td>\n",
       "      <td>0.215495</td>\n",
       "      <td>0.215495</td>\n",
       "      <td>0.215495</td>\n",
       "      <td>0.215495</td>\n",
       "      <td>0.215495</td>\n",
       "      <td>0.215495</td>\n",
       "      <td>0.215495</td>\n",
       "      <td>Normal</td>\n",
       "    </tr>\n",
       "    <tr>\n",
       "      <th>220</th>\n",
       "      <td>0.322583</td>\n",
       "      <td>0.505492</td>\n",
       "      <td>0.183909</td>\n",
       "      <td>0.151163</td>\n",
       "      <td>0.238094</td>\n",
       "      <td>0.696206</td>\n",
       "      <td>0.380953</td>\n",
       "      <td>0.500000</td>\n",
       "      <td>0.202900</td>\n",
       "      <td>0.560441</td>\n",
       "      <td>...</td>\n",
       "      <td>0.267096</td>\n",
       "      <td>0.279578</td>\n",
       "      <td>0.279578</td>\n",
       "      <td>0.279578</td>\n",
       "      <td>0.279578</td>\n",
       "      <td>0.279578</td>\n",
       "      <td>0.279578</td>\n",
       "      <td>0.279578</td>\n",
       "      <td>0.279578</td>\n",
       "      <td>Cancer</td>\n",
       "    </tr>\n",
       "    <tr>\n",
       "      <th>28</th>\n",
       "      <td>0.301073</td>\n",
       "      <td>0.252746</td>\n",
       "      <td>0.091957</td>\n",
       "      <td>0.046516</td>\n",
       "      <td>0.380953</td>\n",
       "      <td>0.367090</td>\n",
       "      <td>0.178572</td>\n",
       "      <td>0.210527</td>\n",
       "      <td>0.289854</td>\n",
       "      <td>0.208791</td>\n",
       "      <td>...</td>\n",
       "      <td>0.326925</td>\n",
       "      <td>0.317607</td>\n",
       "      <td>0.317607</td>\n",
       "      <td>0.317607</td>\n",
       "      <td>0.317607</td>\n",
       "      <td>0.317607</td>\n",
       "      <td>0.317607</td>\n",
       "      <td>0.317607</td>\n",
       "      <td>0.317607</td>\n",
       "      <td>Normal</td>\n",
       "    </tr>\n",
       "    <tr>\n",
       "      <th>175</th>\n",
       "      <td>0.397850</td>\n",
       "      <td>0.428571</td>\n",
       "      <td>0.367817</td>\n",
       "      <td>0.313954</td>\n",
       "      <td>0.357144</td>\n",
       "      <td>0.379747</td>\n",
       "      <td>0.333335</td>\n",
       "      <td>0.078945</td>\n",
       "      <td>0.565216</td>\n",
       "      <td>0.285712</td>\n",
       "      <td>...</td>\n",
       "      <td>0.311253</td>\n",
       "      <td>0.278170</td>\n",
       "      <td>0.278170</td>\n",
       "      <td>0.278170</td>\n",
       "      <td>0.278170</td>\n",
       "      <td>0.278170</td>\n",
       "      <td>0.278170</td>\n",
       "      <td>0.278170</td>\n",
       "      <td>0.278170</td>\n",
       "      <td>Cancer</td>\n",
       "    </tr>\n",
       "  </tbody>\n",
       "</table>\n",
       "<p>5 rows × 15155 columns</p>\n",
       "</div>"
      ],
      "text/plain": [
       "     MZ-7.86E-05  MZ2.18E-07  MZ9.60E-05  MZ0.000366014  MZ0.000810195  \\\n",
       "60      0.473116    0.406593    0.632183       0.302327       0.357144   \n",
       "20      0.677423    0.307689    0.436781       0.430235       0.583334   \n",
       "220     0.322583    0.505492    0.183909       0.151163       0.238094   \n",
       "28      0.301073    0.252746    0.091957       0.046516       0.380953   \n",
       "175     0.397850    0.428571    0.367817       0.313954       0.357144   \n",
       "\n",
       "     MZ0.001428564  MZ0.002221123  MZ0.003187869  MZ0.004328805  \\\n",
       "60        0.544306       0.440475       0.828952       0.507246   \n",
       "20        0.468359       0.630951       0.631582       0.666669   \n",
       "220       0.696206       0.380953       0.500000       0.202900   \n",
       "28        0.367090       0.178572       0.210527       0.289854   \n",
       "175       0.379747       0.333335       0.078945       0.565216   \n",
       "\n",
       "     MZ0.005643929  ...  MZ19974.404  MZ19977.042  MZ19979.68  MZ19982.319  \\\n",
       "60        0.593407  ...     0.522079     0.497888    0.497888     0.497888   \n",
       "20        0.593407  ...     0.230769     0.215495    0.215495     0.215495   \n",
       "220       0.560441  ...     0.267096     0.279578    0.279578     0.279578   \n",
       "28        0.208791  ...     0.326925     0.317607    0.317607     0.317607   \n",
       "175       0.285712  ...     0.311253     0.278170    0.278170     0.278170   \n",
       "\n",
       "     MZ19984.957  MZ19987.596  MZ19990.235  MZ19992.874  MZ19995.513   Class  \n",
       "60      0.497888     0.497888     0.497888     0.497888     0.497888  Normal  \n",
       "20      0.215495     0.215495     0.215495     0.215495     0.215495  Normal  \n",
       "220     0.279578     0.279578     0.279578     0.279578     0.279578  Cancer  \n",
       "28      0.317607     0.317607     0.317607     0.317607     0.317607  Normal  \n",
       "175     0.278170     0.278170     0.278170     0.278170     0.278170  Cancer  \n",
       "\n",
       "[5 rows x 15155 columns]"
      ]
     },
     "execution_count": 2,
     "metadata": {},
     "output_type": "execute_result"
    }
   ],
   "source": [
    "#here we import and visualize our dataset\n",
    "url = \"Datasets/Ovarian_cancer.csv\"\n",
    "df = pd.read_csv(url)\n",
    "df.sample(5)"
   ]
  },
  {
   "cell_type": "code",
   "execution_count": 3,
   "id": "7ea088fd",
   "metadata": {},
   "outputs": [
    {
     "data": {
      "text/plain": [
       "(253, 15155)"
      ]
     },
     "execution_count": 3,
     "metadata": {},
     "output_type": "execute_result"
    }
   ],
   "source": [
    "df.shape#shows that we have 153 instances and 15,155 features"
   ]
  },
  {
   "cell_type": "code",
   "execution_count": 4,
   "id": "8449818d",
   "metadata": {},
   "outputs": [],
   "source": [
    "#now we chcek if there are missing values in our data\n",
    "#df.isnull().sum() #There are no missinf values in our dataset"
   ]
  },
  {
   "cell_type": "code",
   "execution_count": 5,
   "id": "d2f3130e",
   "metadata": {},
   "outputs": [
    {
     "data": {
      "image/png": "[encoded data removed]",
      "text/plain": [
       "<Figure size 300x200 with 1 Axes>"
      ]
     },
     "metadata": {},
     "output_type": "display_data"
    }
   ],
   "source": [
    "df.value_counts('Class').plot(kind = 'bar', color = ['red', 'blue'], figsize=(3,2));\n"
   ]
  },
  {
   "cell_type": "markdown",
   "id": "7c53d6fa",
   "metadata": {},
   "source": [
    "We visualize to see the number of instances in each of the class. It can then be \n",
    "seen that cancerous has significantly higher number of instances thatn the nirmal class.\n",
    "This again mean that our data is inbalance."
   ]
  },
  {
   "cell_type": "code",
   "execution_count": 6,
   "id": "a9c8d41c",
   "metadata": {},
   "outputs": [
    {
     "data": {
      "text/html": [
       "<div>\n",
       "<style scoped>\n",
       "    .dataframe tbody tr th:only-of-type {\n",
       "        vertical-align: middle;\n",
       "    }\n",
       "\n",
       "    .dataframe tbody tr th {\n",
       "        vertical-align: top;\n",
       "    }\n",
       "\n",
       "    .dataframe thead th {\n",
       "        text-align: right;\n",
       "    }\n",
       "</style>\n",
       "<table border=\"1\" class=\"dataframe\">\n",
       "  <thead>\n",
       "    <tr style=\"text-align: right;\">\n",
       "      <th></th>\n",
       "      <th>percentage (%)</th>\n",
       "    </tr>\n",
       "    <tr>\n",
       "      <th>Class</th>\n",
       "      <th></th>\n",
       "    </tr>\n",
       "  </thead>\n",
       "  <tbody>\n",
       "    <tr>\n",
       "      <th>Cancer</th>\n",
       "      <td>0.64</td>\n",
       "    </tr>\n",
       "    <tr>\n",
       "      <th>Normal</th>\n",
       "      <td>0.36</td>\n",
       "    </tr>\n",
       "  </tbody>\n",
       "</table>\n",
       "</div>"
      ],
      "text/plain": [
       "        percentage (%)\n",
       "Class                 \n",
       "Cancer            0.64\n",
       "Normal            0.36"
      ]
     },
     "execution_count": 6,
     "metadata": {},
     "output_type": "execute_result"
    }
   ],
   "source": [
    "#showing that approximately 64% are cancerous and 36% Normal\n",
    "value_count_normalized = df.Class.value_counts(normalize = True)\n",
    "new_T = pd.DataFrame({'percentage (%)': round(value_count_normalized, 2)})\n",
    "new_T"
   ]
  },
  {
   "cell_type": "markdown",
   "id": "44d34125",
   "metadata": {},
   "source": [
    "#### Label Encoding"
   ]
  },
  {
   "cell_type": "markdown",
   "id": "67da45ba",
   "metadata": {},
   "source": [
    "From the first display of our dataset, we could see that 'Class' is not in a numeric form. Machine learning algorithms on the other hand does not work with categorical variables. Thus we need to convert the class into numeric using the LabelEncoder we previousely imported"
   ]
  },
  {
   "cell_type": "code",
   "execution_count": 7,
   "id": "17991ff5",
   "metadata": {},
   "outputs": [
    {
     "data": {
      "text/plain": [
       "0      1\n",
       "1      1\n",
       "2      1\n",
       "3      1\n",
       "4      1\n",
       "      ..\n",
       "248    0\n",
       "249    0\n",
       "250    0\n",
       "251    0\n",
       "252    0\n",
       "Name: Class, Length: 253, dtype: int32"
      ]
     },
     "execution_count": 7,
     "metadata": {},
     "output_type": "execute_result"
    }
   ],
   "source": [
    "label = LabelEncoder()\n",
    "df['Class'] = label.fit_transform(df['Class'])\n",
    "df.Class #Now we can see that out target class consist only of numeric 1's and 0's"
   ]
  },
  {
   "cell_type": "code",
   "execution_count": 8,
   "id": "c0193e8b",
   "metadata": {},
   "outputs": [],
   "source": [
    "X = df.drop(['Class'], axis = 1)\n",
    "#y = df.pop('Class')\n",
    "y = df.loc[:,['Class']]\n",
    "#y = np.asarray(df[:, -1])\n",
    "#we separated the dependent and independent variables into y and X respectively\n",
    "#y"
   ]
  },
  {
   "cell_type": "code",
   "execution_count": 9,
   "id": "c7687066",
   "metadata": {},
   "outputs": [
    {
     "data": {
      "text/plain": [
       "SelectKBest(k=1000,\n",
       "            score_func=<function mutual_info_classif at 0x0000021861EDCAF0>)"
      ]
     },
     "execution_count": 9,
     "metadata": {},
     "output_type": "execute_result"
    }
   ],
   "source": [
    "#Incorporating the Mutual Information filter method implicitely to reduce dataset dimension preliminary\n",
    "select_features = SelectKBest(score_func = mutual_info_classif, k = 1000)#select top 50 features\n",
    "select_features.fit(X, y)"
   ]
  },
  {
   "cell_type": "code",
   "execution_count": 10,
   "id": "a32bbd08",
   "metadata": {},
   "outputs": [],
   "source": [
    "#presenting the top 100 features in a table\n",
    "Tabel_score = pd.DataFrame(select_features.scores_)\n",
    "Table_features = pd.DataFrame(X.columns)\n",
    "Combined_table = pd.concat([Table_features , Tabel_score], axis = 1)\n",
    "Combined_table.columns = ['Features_Names', 'Scores']"
   ]
  },
  {
   "cell_type": "code",
   "execution_count": 11,
   "id": "7204bbe3",
   "metadata": {},
   "outputs": [
    {
     "data": {
      "text/html": [
       "<div>\n",
       "<style scoped>\n",
       "    .dataframe tbody tr th:only-of-type {\n",
       "        vertical-align: middle;\n",
       "    }\n",
       "\n",
       "    .dataframe tbody tr th {\n",
       "        vertical-align: top;\n",
       "    }\n",
       "\n",
       "    .dataframe thead th {\n",
       "        text-align: right;\n",
       "    }\n",
       "</style>\n",
       "<table border=\"1\" class=\"dataframe\">\n",
       "  <thead>\n",
       "    <tr style=\"text-align: right;\">\n",
       "      <th></th>\n",
       "      <th>Features_Names</th>\n",
       "      <th>Scores</th>\n",
       "    </tr>\n",
       "  </thead>\n",
       "  <tbody>\n",
       "    <tr>\n",
       "      <th>1678</th>\n",
       "      <td>MZ244.95245</td>\n",
       "      <td>0.569500</td>\n",
       "    </tr>\n",
       "    <tr>\n",
       "      <th>1679</th>\n",
       "      <td>MZ245.24466</td>\n",
       "      <td>0.552878</td>\n",
       "    </tr>\n",
       "    <tr>\n",
       "      <th>1680</th>\n",
       "      <td>MZ245.53704</td>\n",
       "      <td>0.541194</td>\n",
       "    </tr>\n",
       "    <tr>\n",
       "      <th>1681</th>\n",
       "      <td>MZ245.8296</td>\n",
       "      <td>0.537360</td>\n",
       "    </tr>\n",
       "    <tr>\n",
       "      <th>1682</th>\n",
       "      <td>MZ246.12233</td>\n",
       "      <td>0.532594</td>\n",
       "    </tr>\n",
       "    <tr>\n",
       "      <th>...</th>\n",
       "      <td>...</td>\n",
       "      <td>...</td>\n",
       "    </tr>\n",
       "    <tr>\n",
       "      <th>12018</th>\n",
       "      <td>MZ12577.244</td>\n",
       "      <td>0.000000</td>\n",
       "    </tr>\n",
       "    <tr>\n",
       "      <th>12019</th>\n",
       "      <td>MZ12579.338</td>\n",
       "      <td>0.000000</td>\n",
       "    </tr>\n",
       "    <tr>\n",
       "      <th>12020</th>\n",
       "      <td>MZ12581.431</td>\n",
       "      <td>0.000000</td>\n",
       "    </tr>\n",
       "    <tr>\n",
       "      <th>12021</th>\n",
       "      <td>MZ12583.525</td>\n",
       "      <td>0.000000</td>\n",
       "    </tr>\n",
       "    <tr>\n",
       "      <th>15153</th>\n",
       "      <td>MZ19995.513</td>\n",
       "      <td>0.000000</td>\n",
       "    </tr>\n",
       "  </tbody>\n",
       "</table>\n",
       "<p>15154 rows × 2 columns</p>\n",
       "</div>"
      ],
      "text/plain": [
       "      Features_Names    Scores\n",
       "1678     MZ244.95245  0.569500\n",
       "1679     MZ245.24466  0.552878\n",
       "1680     MZ245.53704  0.541194\n",
       "1681      MZ245.8296  0.537360\n",
       "1682     MZ246.12233  0.532594\n",
       "...              ...       ...\n",
       "12018    MZ12577.244  0.000000\n",
       "12019    MZ12579.338  0.000000\n",
       "12020    MZ12581.431  0.000000\n",
       "12021    MZ12583.525  0.000000\n",
       "15153    MZ19995.513  0.000000\n",
       "\n",
       "[15154 rows x 2 columns]"
      ]
     },
     "execution_count": 11,
     "metadata": {},
     "output_type": "execute_result"
    }
   ],
   "source": [
    "Combined_table.sort_values(by = 'Scores', ascending = False)"
   ]
  },
  {
   "cell_type": "code",
   "execution_count": 12,
   "id": "615d3ae9",
   "metadata": {},
   "outputs": [
    {
     "data": {
      "text/plain": [
       "(15154, 2)"
      ]
     },
     "execution_count": 12,
     "metadata": {},
     "output_type": "execute_result"
    }
   ],
   "source": [
    "Combined_table.shape"
   ]
  },
  {
   "cell_type": "code",
   "execution_count": 13,
   "id": "0e0b0b0b",
   "metadata": {},
   "outputs": [],
   "source": [
    "First_500_features = Combined_table.iloc[:1000] #select top 500\n",
    "First_500_features = First_500_features.reset_index(drop = True)#reset index of features\n",
    "#First_50_features #Selected 500 top performing features"
   ]
  },
  {
   "cell_type": "code",
   "execution_count": 14,
   "id": "cd6df6f7",
   "metadata": {},
   "outputs": [],
   "source": [
    "#Now we select onyl these 100 features from our original dataset df.\n",
    "Select_feature_names = First_500_features['Features_Names']\n",
    "Select_feature_names_from_original_df = X[Select_feature_names]\n",
    "#Select_feature_names_from_original_df.shape #OUR new dataset woth onyl the top 500 features"
   ]
  },
  {
   "cell_type": "code",
   "execution_count": 15,
   "id": "a26c689d",
   "metadata": {},
   "outputs": [],
   "source": [
    "#Now copying our dataset into a small name\n",
    "X = Select_feature_names_from_original_df"
   ]
  },
  {
   "cell_type": "markdown",
   "id": "135f66e1",
   "metadata": {},
   "source": [
    "#### Normalization\n",
    "Although the datasets looks normlized, we still will apply the MinMaxScaler to make sure all the numeric values are on the same scale to avois bias"
   ]
  },
  {
   "cell_type": "code",
   "execution_count": 16,
   "id": "a46c6e49",
   "metadata": {},
   "outputs": [],
   "source": [
    "scaler = StandardScaler()\n",
    "X_scaled = scaler.fit_transform(X)\n",
    "X_scaled = np.abs(X_scaled)\n",
    "#Now our datasets is scaled suitable for machine learnign task."
   ]
  },
  {
   "cell_type": "code",
   "execution_count": 17,
   "id": "6a3ecded",
   "metadata": {},
   "outputs": [
    {
     "data": {
      "text/plain": [
       "(253, 1000)"
      ]
     },
     "execution_count": 17,
     "metadata": {},
     "output_type": "execute_result"
    }
   ],
   "source": [
    "X_scaled.shape"
   ]
  },
  {
   "cell_type": "code",
   "execution_count": 18,
   "id": "4d763079",
   "metadata": {},
   "outputs": [],
   "source": [
    "y = np.ravel(y)"
   ]
  },
  {
   "cell_type": "markdown",
   "id": "9559c86c",
   "metadata": {},
   "source": [
    "#### Spiltting Data into Training and Testing sets\n",
    "we will split into 70 for trainign and 30 for testing. Also, to manage the imbalanced nature of the dataset, we employ the stratify parameter"
   ]
  },
  {
   "cell_type": "code",
   "execution_count": 19,
   "id": "de5577f0",
   "metadata": {},
   "outputs": [
    {
     "name": "stdout",
     "output_type": "stream",
     "text": [
      "Training set:(177, 1000)\n",
      "Testing set:(76, 1000)\n",
      "Training_Label set:(177,)\n",
      "Testing_Lable set:(76,)\n"
     ]
    }
   ],
   "source": [
    "rs = 42 #we use the random state parameter to ensure reproducibility of experiment\n",
    "x_train, x_test, y_train, y_test = train_test_split(X_scaled, y, \n",
    "                                                    random_state = rs, \n",
    "                                                    test_size = .3, \n",
    "                                                    stratify = y)\n",
    "fold = {'xt': x_train, 'yt': y_train, 'xv': x_test, 'yv': y_test} #requirement for optimization algorithms\n",
    "#We print out to see the number of instances in each of the classes\n",
    "print(f'Training set:{x_train.shape}')\n",
    "print(f'Testing set:{x_test.shape}')\n",
    "print(f'Training_Label set:{y_train.shape}')\n",
    "print(f'Testing_Lable set:{y_test.shape}')"
   ]
  },
  {
   "cell_type": "markdown",
   "id": "ff735a83",
   "metadata": {},
   "source": [
    "#### Optimization ALgorithms"
   ]
  },
  {
   "attachments": {
    "image-2.png": {
     "image/png": "[encoded data removed]"
    },
    "image.png": {
     "image/png": "[encoded data removed]"
    }
   },
   "cell_type": "markdown",
   "id": "755cac83",
   "metadata": {},
   "source": [
    "Note that in this experirment, we used the library produced by Too, 2021 as identified in chapter 3. Also, we incorporate the inprovement of including the logistic chaotic map directly in the library and not here.\n",
    "\n",
    "All that is done here is to import the library and run.\n",
    "![image.png](attachment:image.png)\n",
    "![image-2.png](attachment:image-2.png)"
   ]
  },
  {
   "cell_type": "markdown",
   "id": "8b58d863",
   "metadata": {},
   "source": [
    "#### Firefly Algorithm\n",
    "Note the parameters as specified in chapter 3. In addition to the general parameters, the FA has additional parameters to be initialized"
   ]
  },
  {
   "cell_type": "code",
   "execution_count": 20,
   "id": "934a0ba2",
   "metadata": {},
   "outputs": [],
   "source": [
    "#Now we set the general parameters\n",
    "K = 5 #K value in KNN\n",
    "N = 20 #Population size/swarm size\n",
    "T = 20 #Max iteration/generations\n",
    "\n",
    "\n",
    "#NOTE THAT SSA DO NOT HAVE ANY SPECIFIC PARAMETERS\n",
    "opts = {'k': K, 'fold': fold, 'N': N, 'T': T}"
   ]
  },
  {
   "cell_type": "code",
   "execution_count": 21,
   "id": "62386825",
   "metadata": {},
   "outputs": [
    {
     "name": "stdout",
     "output_type": "stream",
     "text": [
      "Iteration: 1\n",
      "Best (SSA): 0.11187052631578948\n",
      "Iteration: 2\n",
      "Best (SSA): 0.11187052631578948\n",
      "Iteration: 3\n",
      "Best (SSA): 0.11187052631578948\n",
      "Iteration: 4\n",
      "Best (SSA): 0.11178052631578947\n",
      "Iteration: 5\n",
      "Best (SSA): 0.11178052631578947\n",
      "Iteration: 6\n",
      "Best (SSA): 0.11178052631578947\n",
      "Iteration: 7\n",
      "Best (SSA): 0.11178052631578947\n",
      "Iteration: 8\n",
      "Best (SSA): 0.11178052631578947\n",
      "Iteration: 9\n",
      "Best (SSA): 0.11138052631578947\n",
      "Iteration: 10\n",
      "Best (SSA): 0.11138052631578947\n",
      "Iteration: 11\n",
      "Best (SSA): 0.11138052631578947\n",
      "Iteration: 12\n",
      "Best (SSA): 0.11138052631578947\n",
      "Iteration: 13\n",
      "Best (SSA): 0.11138052631578947\n",
      "Iteration: 14\n",
      "Best (SSA): 0.11138052631578947\n",
      "Iteration: 15\n",
      "Best (SSA): 0.10048421052631575\n",
      "Iteration: 16\n",
      "Best (SSA): 0.10048421052631575\n",
      "Iteration: 17\n",
      "Best (SSA): 0.10048421052631575\n",
      "Iteration: 18\n",
      "Best (SSA): 0.10048421052631575\n",
      "Iteration: 19\n",
      "Best (SSA): 0.10048421052631575\n",
      "Iteration: 20\n",
      "Best (SSA): 0.10048421052631575\n"
     ]
    }
   ],
   "source": [
    "#Now we perform our feature selection by calling the module jfs\n",
    "feature_selection_mdl = jfs(X_scaled, y, opts) #feature selection model\n",
    "sf = feature_selection_mdl['sf'] #index of selected features"
   ]
  },
  {
   "cell_type": "code",
   "execution_count": 22,
   "id": "cf540f0d",
   "metadata": {},
   "outputs": [],
   "source": [
    "#print(sf)"
   ]
  },
  {
   "cell_type": "code",
   "execution_count": 23,
   "id": "65bea749",
   "metadata": {},
   "outputs": [],
   "source": [
    "#Model with selected features\n",
    "num_train = np.size(x_train,0)#checks the number of samples slected in the x_train and assign to num_train\n",
    "num_test = np.size(x_test, 0)#checks the number of samples slected in the x_train and assign to num_train\n",
    "xtrain = x_train[:,sf]\n",
    "ytrain = y_train.reshape(num_train)\n",
    "xtest = x_test[:,sf]\n",
    "ytest = y_test.reshape(num_test) #I suffered fixing the bug"
   ]
  },
  {
   "cell_type": "code",
   "execution_count": 24,
   "id": "5d540448",
   "metadata": {},
   "outputs": [
    {
     "data": {
      "text/plain": [
       "(177, 930)"
      ]
     },
     "execution_count": 24,
     "metadata": {},
     "output_type": "execute_result"
    }
   ],
   "source": [
    "xtrain.shape #WHY IS IT SHOWING ZERO FEATURES?"
   ]
  },
  {
   "cell_type": "code",
   "execution_count": 25,
   "id": "e76bdaf1",
   "metadata": {},
   "outputs": [
    {
     "data": {
      "text/plain": [
       "KNeighborsClassifier()"
      ]
     },
     "execution_count": 25,
     "metadata": {},
     "output_type": "execute_result"
    }
   ],
   "source": [
    "#Now we build our model i.e., the classifier\n",
    "KNN_model = KNeighborsClassifier(n_neighbors = 5)\n",
    "KNN_model.fit(xtrain, ytrain)  "
   ]
  },
  {
   "cell_type": "code",
   "execution_count": 26,
   "id": "831962f7",
   "metadata": {},
   "outputs": [
    {
     "data": {
      "text/plain": [
       "MLPClassifier(hidden_layer_sizes=(32, 8), max_iter=500, random_state=42)"
      ]
     },
     "execution_count": 26,
     "metadata": {},
     "output_type": "execute_result"
    }
   ],
   "source": [
    "#OPTIMIZING THE MLP WITH Nesterov’s momentum\n",
    "MLP_model = MLPClassifier(random_state = rs,\n",
    "                             hidden_layer_sizes = (32, 8),\n",
    "                             early_stopping = False,\n",
    "                             solver = 'adam',\n",
    "                             nesterovs_momentum = True,\n",
    "                             momentum = 0.90,\n",
    "                             max_iter = 500)\n",
    "MLP_model.fit(xtrain, ytrain)"
   ]
  },
  {
   "cell_type": "code",
   "execution_count": 27,
   "id": "7157f79e",
   "metadata": {},
   "outputs": [],
   "source": [
    "#Calculating for accuracy for our unseen datadef \n",
    "def train_test_accuracy(model, xtest, ytest, name = ''):\n",
    "    y_pred = model.predict(xtest)\n",
    "    test_accuracy = round(accuracy_score(y_pred, ytest)*100, 2)\n",
    "    test_F1_measure = round(f1_score(y_pred, ytest)*100,2)\n",
    "        \n",
    "    return print(\"The ACCURACY SCORE is: {} \\n and the F1_MEASURE is {} \\n for {}\". format(test_accuracy, test_F1_measure, name))"
   ]
  },
  {
   "cell_type": "code",
   "execution_count": 28,
   "id": "26cce810",
   "metadata": {
    "scrolled": true
   },
   "outputs": [
    {
     "name": "stdout",
     "output_type": "stream",
     "text": [
      "The ACCURACY SCORE is: 90.79 \n",
      " and the F1_MEASURE is 86.27 \n",
      " for SSA-KNN\n"
     ]
    }
   ],
   "source": [
    "#Calling our fucntion to display results for FA-KNN\n",
    "train_test_accuracy(KNN_model, xtest, ytest, name = 'SSA-KNN')"
   ]
  },
  {
   "cell_type": "code",
   "execution_count": 29,
   "id": "d0fd9e36",
   "metadata": {},
   "outputs": [
    {
     "name": "stdout",
     "output_type": "stream",
     "text": [
      "The ACCURACY SCORE is: 71.05 \n",
      " and the F1_MEASURE is 56.0 \n",
      " for SSA-MLP\n"
     ]
    }
   ],
   "source": [
    "#Calling our fucntion to display results for FA-MLP\n",
    "train_test_accuracy(MLP_model, xtest, ytest, name = 'SSA-MLP')"
   ]
  },
  {
   "cell_type": "code",
   "execution_count": 30,
   "id": "17fb08ee",
   "metadata": {},
   "outputs": [
    {
     "name": "stdout",
     "output_type": "stream",
     "text": [
      "The number of FEATURES selected is: 930\n"
     ]
    }
   ],
   "source": [
    "#Now we check the number of selected features\n",
    "Number_of_features = len(sf)\n",
    "print(f'The number of FEATURES selected is: {Number_of_features}')"
   ]
  },
  {
   "cell_type": "markdown",
   "id": "e9b81e18",
   "metadata": {},
   "source": [
    "### END OF PROJECT"
   ]
  },
  {
   "cell_type": "code",
   "execution_count": null,
   "id": "0351831f",
   "metadata": {},
   "outputs": [],
   "source": []
  }
 ],
 "metadata": {
  "kernelspec": {
   "display_name": "Python 3 (ipykernel)",
   "language": "python",
   "name": "python3"
  },
  "language_info": {
   "codemirror_mode": {
    "name": "ipython",
    "version": 3
   },
   "file_extension": ".py",
   "mimetype": "text/x-python",
   "name": "python",
   "nbconvert_exporter": "python",
   "pygments_lexer": "ipython3",
   "version": "3.9.17"
  }
 },
 "nbformat": 4,
 "nbformat_minor": 5
}
